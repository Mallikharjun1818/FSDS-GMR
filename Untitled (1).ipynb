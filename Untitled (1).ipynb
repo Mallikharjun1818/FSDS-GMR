{
 "cells": [
  {
   "cell_type": "code",
   "execution_count": null,
   "id": "51a5473e",
   "metadata": {},
   "outputs": [],
   "source": [
    "ljbjlnvdln\n",
    "mdbkjbdvkj sd\n",
    "dnlknsdvlk \n",
    "kvdnlkvn\n",
    "lvd;mv\n",
    "vdmnvl;\n",
    " .dmnv;l\n",
    "    "
   ]
  }
 ],
 "metadata": {
  "kernelspec": {
   "display_name": "Python 3 (ipykernel)",
   "language": "python",
   "name": "python3"
  },
  "language_info": {
   "codemirror_mode": {
    "name": "ipython",
    "version": 3
   },
   "file_extension": ".py",
   "mimetype": "text/x-python",
   "name": "python",
   "nbconvert_exporter": "python",
   "pygments_lexer": "ipython3",
   "version": "3.9.7"
  }
 },
 "nbformat": 4,
 "nbformat_minor": 5
}
